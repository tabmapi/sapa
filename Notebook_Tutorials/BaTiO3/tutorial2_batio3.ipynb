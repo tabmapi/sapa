{
 "cells": [
  {
   "cell_type": "markdown",
   "id": "2bd23066",
   "metadata": {},
   "source": [
    "# Tutorial 2 - Analysing Data\n",
    "\n",
    "In this tutorial, we will use some of the SAPA utility functions to look at the output of our SAPA analysis of BaTiO3.\n",
    "\n",
    "The utility functions are contained in a separate file, so needs importing separately from the SAPA class:"
   ]
  },
  {
   "cell_type": "code",
   "execution_count": 1,
   "id": "4c763027",
   "metadata": {},
   "outputs": [],
   "source": [
    "import sys\n",
    "sys.path.append('..')"
   ]
  },
  {
   "cell_type": "code",
   "execution_count": 2,
   "id": "2a0bf9aa",
   "metadata": {},
   "outputs": [],
   "source": [
    "import sapa_utils_hdf as su"
   ]
  },
  {
   "cell_type": "markdown",
   "id": "eeecce71",
   "metadata": {},
   "source": [
    "It takes an isodistort CIF and a hdf5 file as arguments. Let's load in our BaTiO3 results:"
   ]
  },
  {
   "cell_type": "code",
   "execution_count": 3,
   "id": "b1268e67",
   "metadata": {},
   "outputs": [],
   "source": [
    "batio3 = su.sapa_utils_hdf(\"BaTiO3_iso.cif\", \"BaTiO3.hdf5\")"
   ]
  },
  {
   "cell_type": "markdown",
   "id": "4ceba793",
   "metadata": {},
   "source": [
    "This has some of the same basic functionality of the SAPA object, in that variables in the CIF can be accessed. It also contains all the data from the HDF5 file. Let's look at the structure of the HDF5 file:"
   ]
  },
  {
   "cell_type": "code",
   "execution_count": 4,
   "id": "361f53f9",
   "metadata": {},
   "outputs": [
    {
     "data": {
      "text/plain": [
       "['GM4-',\n",
       " 'GM5-',\n",
       " 'M1+',\n",
       " 'M2+',\n",
       " 'M2-',\n",
       " 'M3+',\n",
       " 'M3-',\n",
       " 'M4+',\n",
       " 'M5+',\n",
       " 'M5-',\n",
       " 'R2-',\n",
       " 'R3-',\n",
       " 'R4-',\n",
       " 'R5+',\n",
       " 'R5-',\n",
       " 'X1+',\n",
       " 'X2+',\n",
       " 'X3-',\n",
       " 'X5+',\n",
       " 'X5-',\n",
       " 'nomodes',\n",
       " 'r_vals',\n",
       " 'temps']"
      ]
     },
     "execution_count": 4,
     "metadata": {},
     "output_type": "execute_result"
    }
   ],
   "source": [
    "list(batio3.hdf.keys())"
   ]
  },
  {
   "cell_type": "markdown",
   "id": "51125862",
   "metadata": {},
   "source": [
    "As you can see, all the irrep labels are \"keys\" within the HDF5 file. We can do the same for each irrep:"
   ]
  },
  {
   "cell_type": "code",
   "execution_count": 5,
   "id": "84c47a7c",
   "metadata": {},
   "outputs": [
    {
     "data": {
      "text/plain": [
       "['Ba_beq',\n",
       " 'O_beq',\n",
       " 'Rwp',\n",
       " 'Ti_beq',\n",
       " 'a1',\n",
       " 'a2',\n",
       " 'a25',\n",
       " 'a26',\n",
       " 'a27',\n",
       " 'a3',\n",
       " 'a49',\n",
       " 'a50',\n",
       " 'a51',\n",
       " 'a52',\n",
       " 'a53',\n",
       " 'a54',\n",
       " 'delrwp',\n",
       " 'lprm_a',\n",
       " 'lprm_al',\n",
       " 'lprm_b',\n",
       " 'lprm_be',\n",
       " 'lprm_c',\n",
       " 'lprm_ga',\n",
       " 'mode_amps',\n",
       " 'norms',\n",
       " 'phase_scale',\n",
       " 'r2v',\n",
       " 'rv',\n",
       " 'ycalc',\n",
       " 'yobs']"
      ]
     },
     "execution_count": 5,
     "metadata": {},
     "output_type": "execute_result"
    }
   ],
   "source": [
    "list(batio3.hdf[\"GM4-\"].keys())"
   ]
  },
  {
   "cell_type": "markdown",
   "id": "a125584c",
   "metadata": {},
   "source": [
    "Here, we can see that each refined parameter from the SAPA run is included as a key. If we look at the \"Rwp\" key:"
   ]
  },
  {
   "cell_type": "code",
   "execution_count": 6,
   "id": "533546fb",
   "metadata": {},
   "outputs": [
    {
     "name": "stdout",
     "output_type": "stream",
     "text": [
      "<HDF5 dataset \"Rwp\": shape (8, 100), type \"<f4\">\n"
     ]
    }
   ],
   "source": [
    "print(batio3.hdf[\"GM4-/Rwp\"]) # this shows the structure of HDF5 files: to access e.g. the lprm_a parameter, you would use [\"GM4-/lrpm_a\"]\n"
   ]
  },
  {
   "cell_type": "markdown",
   "id": "60cec31a",
   "metadata": {},
   "source": [
    "This tells us the type of object we have accessed. The shape tells us the dimensions of the data, in this case 8 by 100. This is due to the structure of the SAPA run: we told it to analyse 8 PDFs and to perform 100 repetitions for each irrep. \n",
    "\n",
    "Let's access the first \"column\" of the dataset, corresponding to the lowest temperature:"
   ]
  },
  {
   "cell_type": "code",
   "execution_count": 7,
   "id": "a8f58518",
   "metadata": {},
   "outputs": [
    {
     "data": {
      "text/plain": [
       "array([ 6.066907,  6.068219,  6.068474,  6.070103,  6.071226,  6.073404,\n",
       "        6.073992,  6.076241,  6.076576,  6.076752,  6.077501,  6.078497,\n",
       "        6.078953,  6.079573,  6.079788,  6.079936,  6.079992,  6.080085,\n",
       "        6.081005,  6.081257,  6.081687,  6.082434,  6.082561,  6.08359 ,\n",
       "        6.084484,  6.084537,  6.084864,  6.085392,  6.08543 ,  6.085632,\n",
       "        6.085761,  6.086416,  6.086707,  6.087046,  6.087624,  6.088097,\n",
       "        6.088502,  6.089202,  6.089352,  6.089417,  6.089436,  6.089791,\n",
       "        6.089905,  6.090125,  6.090167,  6.091392,  6.091427,  6.09144 ,\n",
       "        6.091694,  6.091739,  6.09236 ,  6.093413,  6.093424,  6.093744,\n",
       "        6.093885,  6.093958,  6.094354,  6.094733,  6.095329,  6.095879,\n",
       "        6.095965,  6.096112,  6.096708,  6.096717,  6.097646,  6.098371,\n",
       "        6.100147,  6.101463,  6.101572,  6.102037,  6.103367,  6.104605,\n",
       "        6.10499 ,  6.107991,  6.108266,  6.110175,  6.110569,  6.111884,\n",
       "        6.11215 ,  6.116101,  6.11769 ,  6.118976,  6.119543,  6.123823,\n",
       "        6.12425 ,  6.127175,  6.127463,  6.129354,  6.13193 ,  6.133566,\n",
       "        6.133848,  6.140849,  6.143881,  6.150099,  6.171646, 22.07513 ,\n",
       "       22.25434 , 27.52985 , 28.13446 , 28.27259 ], dtype=float32)"
      ]
     },
     "execution_count": 7,
     "metadata": {},
     "output_type": "execute_result"
    }
   ],
   "source": [
    "batio3.hdf[\"GM4-/Rwp\"][0,:] # the hdf5 datasets are structured like numpy arrays, and can be sliced in the same way"
   ]
  },
  {
   "cell_type": "markdown",
   "id": "b7e74871",
   "metadata": {},
   "source": [
    "As you can see, the value of Rwp is increasing along the \"row\". This is the case for all irreps, as the data is sorted when the hdf5 file is created. The data in the other datasets is sorted to match this. \n",
    "\n",
    "We can also look at how the lowest Rwp changes with temperature:\n",
    "\n"
   ]
  },
  {
   "cell_type": "code",
   "execution_count": 8,
   "id": "a57999a1",
   "metadata": {},
   "outputs": [
    {
     "data": {
      "text/plain": [
       "array([6.066907, 5.861435, 5.961776, 6.324972, 6.353866, 6.139702,\n",
       "       5.869916, 5.867783], dtype=float32)"
      ]
     },
     "execution_count": 8,
     "metadata": {},
     "output_type": "execute_result"
    }
   ],
   "source": [
    "batio3.hdf[\"GM4-/Rwp\"][:,0]"
   ]
  },
  {
   "cell_type": "markdown",
   "id": "7609e50e",
   "metadata": {},
   "source": [
    "There are some keys that don't correspond to refined parameters. These are \"delrwp\", \"norms\", \"mode_amps\", \"yobs\" and \"ycalc\".\n",
    "\n",
    "delrwp -> Rwp difference from a refinement with no modes active - the more negative this value is, the better the refinement is.\n",
    "\n",
    "norms -> the normalisation factors for each mode\n",
    "\n",
    "mode_amps -> the normalised mode amplitudes for the irrep as a whole\n",
    "\n",
    "yobs -> the observed PDF\n",
    "\n",
    "ycalc -> the calculated PDF for the lowest Rwp refinement for this irrep"
   ]
  },
  {
   "cell_type": "markdown",
   "id": "b2934172",
   "metadata": {},
   "source": [
    "Parameters can be plotted against temperature by supplying a list of keys to the plot function:"
   ]
  },
  {
   "cell_type": "code",
   "execution_count": 9,
   "id": "ecd71af2",
   "metadata": {},
   "outputs": [
    {
     "data": {
      "image/png": "[encoded data removed]",
      "text/plain": [
       "<Figure size 432x288 with 1 Axes>"
      ]
     },
     "metadata": {
      "needs_background": "light"
     },
     "output_type": "display_data"
    }
   ],
   "source": [
    "batio3.plot([\"GM4-/Rwp\", \"X5+/Rwp\", \"R5-/Rwp\"]) # this looks at the \"best\" value by default, this can be changed by supplying index parameter\n"
   ]
  },
  {
   "cell_type": "markdown",
   "id": "8baf18de",
   "metadata": {},
   "source": [
    "We can also save figures for all the common variables by using the plot_all function:"
   ]
  },
  {
   "cell_type": "code",
   "execution_count": 10,
   "id": "6e39b8c3",
   "metadata": {},
   "outputs": [],
   "source": [
    "batio3.plot_all()"
   ]
  },
  {
   "cell_type": "markdown",
   "id": "5131a265",
   "metadata": {},
   "source": [
    "We can also look at correlations between modes within an irrep: \n",
    "\n",
    "(The sigma parameter here is a rough measure of how strongly to weight towards the best refinements. The lower sigma is, the more heavily weighted towards the best refinements, since the means are calculated with a weighting of exp((rwp-rwp_0)/sigma)"
   ]
  },
  {
   "cell_type": "code",
   "execution_count": 11,
   "id": "ffb235e8",
   "metadata": {},
   "outputs": [],
   "source": [
    "#print(batio3.hdf[\"R5-/Rwp\"][7,:])\n",
    "batio3.plot_correlation_matrix(\"R5-\", 500, sigma = 1) \n"
   ]
  },
  {
   "cell_type": "markdown",
   "id": "5cac3df7",
   "metadata": {},
   "source": [
    "Using the code above, try and answer the following:\n",
    "\n",
    "1) Identify the order parameter for the sequence of phase transitions in BaTiO3\n",
    "\n",
    "2) Identify \"secondary\" active modes in the cubic phase\n",
    "\n",
    "3) Using ISOVIZ, determine the character of these secondary modes and identify why they might be active in the cubic phase\n",
    "\n",
    "4) What do the correlations of individual modes within the order parameter tell you?"
   ]
  },
  {
   "cell_type": "code",
   "execution_count": null,
   "id": "d5cbae5f",
   "metadata": {},
   "outputs": [],
   "source": []
  },
  {
   "cell_type": "code",
   "execution_count": null,
   "id": "f6df95ce",
   "metadata": {},
   "outputs": [],
   "source": []
  }
 ],
 "metadata": {
  "kernelspec": {
   "display_name": "Python 3 (ipykernel)",
   "language": "python",
   "name": "python3"
  },
  "language_info": {
   "codemirror_mode": {
    "name": "ipython",
    "version": 3
   },
   "file_extension": ".py",
   "mimetype": "text/x-python",
   "name": "python",
   "nbconvert_exporter": "python",
   "pygments_lexer": "ipython3",
   "version": "3.9.12"
  }
 },
 "nbformat": 4,
 "nbformat_minor": 5
}
