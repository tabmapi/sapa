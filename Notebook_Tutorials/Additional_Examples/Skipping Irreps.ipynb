{
 "cells": [
  {
   "cell_type": "markdown",
   "id": "5420ed2f",
   "metadata": {},
   "source": [
    "# Skipping Irreps\n",
    "\n",
    "Sometimes when performing SAPA, we may not want to refine all irreducible representations. This could be that you want that irrep to refine alongside each of the others (by including the directive #define irrep in the file), or it contains only modes for an element you do not want to refine (e.g. you could have decided to not let any modes for light elements refine by adding the ! flag to the relevant parameters in each irrep #ifdef block)\n",
    "\n",
    "This is straightforward to do in SAPA."
   ]
  },
  {
   "cell_type": "code",
   "execution_count": null,
   "id": "ad012b21",
   "metadata": {},
   "outputs": [],
   "source": [
    "import sys\n",
    "sys.path.append('..')\n",
    "\n",
    "import sapa as s\n",
    "\n",
    "a = s.sapa('BaTiO3_iso.cif')\n",
    "\n",
    "# Since I am not writing an input file, filename and sample name need to be set. \n",
    "# These can be set as below, or, if not, the execute function will prompt you to enter values\n",
    "# Note that the filename does not need the .inp extension to be included, it will automatically add this if it is not present\n",
    "\n",
    "a.filename = 'BaTiO3_alwaysGM4-'\n",
    "\n",
    "a.sample = 'BaTiO3_withGM4-'\n",
    "\n",
    "temps = ['15','150','210','250','293','350','410','500']\n",
    "\n",
    "a.execute(temps, skip_irreps = ['GM4-']) # skip_irreps needs to be a list\n",
    "\n",
    "a.create_hdf5(temps, skip_irreps = ['GM4-'])\n",
    "\n",
    "a.file_check(temps, skip_irreps = ['GM4-'])"
   ]
  }
 ],
 "metadata": {
  "kernelspec": {
   "display_name": "Python 3 (ipykernel)",
   "language": "python",
   "name": "python3"
  },
  "language_info": {
   "codemirror_mode": {
    "name": "ipython",
    "version": 3
   },
   "file_extension": ".py",
   "mimetype": "text/x-python",
   "name": "python",
   "nbconvert_exporter": "python",
   "pygments_lexer": "ipython3",
   "version": "3.9.12"
  }
 },
 "nbformat": 4,
 "nbformat_minor": 5
}
