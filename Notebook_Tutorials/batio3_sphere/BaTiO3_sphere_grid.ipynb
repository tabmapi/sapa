{
 "cells": [
  {
   "cell_type": "code",
   "execution_count": 1,
   "id": "ca12b8e1",
   "metadata": {},
   "outputs": [],
   "source": [
    "import os\n",
    "import numpy as np\n",
    "\n",
    "\n",
    "temps = ['15','150','210','250','293','350','410','500']\n",
    "\n"
   ]
  },
  {
   "cell_type": "markdown",
   "id": "a6602529",
   "metadata": {},
   "source": [
    "Next, we set our grid in theta and phi:"
   ]
  },
  {
   "cell_type": "code",
   "execution_count": 2,
   "id": "58c9074f",
   "metadata": {},
   "outputs": [],
   "source": [
    "theta = np.linspace(0.1,np.pi,36)\n",
    "phi = np.linspace(0.1,2*np.pi,72)\n",
    "\n"
   ]
  },
  {
   "cell_type": "markdown",
   "id": "0369cfe3",
   "metadata": {},
   "source": [
    "We also have to set our working directory and our topas directory:"
   ]
  },
  {
   "cell_type": "code",
   "execution_count": 3,
   "id": "60df94de",
   "metadata": {},
   "outputs": [],
   "source": [
    "wd = os.getcwd()\n",
    "filename = 'batio3_gm4-_grid.inp'\n",
    "inppath = os.path.join(wd, filename)\n",
    "topaspath = 'C:\\\\TOPAS7\\\\tc.exe'\n",
    "\n"
   ]
  },
  {
   "cell_type": "markdown",
   "id": "b98b91df",
   "metadata": {},
   "source": [
    "And now we loop over the values of theta and phi, passing the values to the input file, which then executes:"
   ]
  },
  {
   "cell_type": "code",
   "execution_count": 4,
   "id": "de8f5d53",
   "metadata": {},
   "outputs": [],
   "source": [
    "for temp in temps:\n",
    "    for i in range(len(theta)):\n",
    "        for j in range(len(phi)):\n",
    "            os.system(topaspath + \" \\\"\" + inppath + \"\\\"\" + f' \\\" macro VAR {{{temp}}} macro THE {{{theta[i]}}} macro PHI {{{phi[j]}}} \\\"')\n",
    "    os.rename('GM4-_BaTiO3_spheregrid.txt', f'GM4-_{temp}_BaTiO3_cubic_spheregrid.txt')\n",
    "            "
   ]
  },
  {
   "cell_type": "code",
   "execution_count": null,
   "id": "934df891",
   "metadata": {},
   "outputs": [],
   "source": []
  }
 ],
 "metadata": {
  "kernelspec": {
   "display_name": "Python 3 (ipykernel)",
   "language": "python",
   "name": "python3"
  },
  "language_info": {
   "codemirror_mode": {
    "name": "ipython",
    "version": 3
   },
   "file_extension": ".py",
   "mimetype": "text/x-python",
   "name": "python",
   "nbconvert_exporter": "python",
   "pygments_lexer": "ipython3",
   "version": "3.10.4"
  }
 },
 "nbformat": 4,
 "nbformat_minor": 5
}
