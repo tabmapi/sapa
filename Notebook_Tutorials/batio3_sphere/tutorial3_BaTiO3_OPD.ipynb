{
 "cells": [
  {
   "cell_type": "code",
   "execution_count": null,
   "id": "706b2c78",
   "metadata": {},
   "outputs": [],
   "source": [
    "import pandas as pd\n",
    "import matplotlib.pyplot as plt\n",
    "import numpy as np"
   ]
  },
  {
   "cell_type": "markdown",
   "id": "5e67ec40",
   "metadata": {},
   "source": [
    "# Investigating Order Parameter Directions in BaTiO3\n",
    "\n",
    "From the first two tutorials for BaTiO3, you should have identified that the primary order parameter for the succession of phase transitions in BaTiO3 is GM4-. This alone does not tell us anything about the nature of the phase transitions; to do that, we must determine the order parameter direction for GM4- at each temperature.\n",
    "\n",
    "To do this, we can sample the distortion space and perform a refinement at each point in space. However, the GM4- order parameter is 3 dimensional, with 4 sets of modes (for 12 total). This is reduced somewhat since the distortion for each group of 3 modes has to be in the same \"direction\" (i.e the general (a,b,c) has to have a/b and a/c equal for Ba, Ti and the two sets of O modes). Luckily for GM4-, this direction physically corresponds to a cartesian direction. Using physical intuition, we can parameterise the 3D distortion space with 2 angles and an amplitude (which we can let refine), so we have reduced our 3D problem into a 2D one. We can further reduce our problem by not refining the Ba modes, since otherwise we will have a floating origin.\n",
    "\n",
    "A spherical coordinate system is used to parameterise angular space, and the \"radii\" of the sphere is allowed to refine for each set of modes.\n",
    "\n",
    "* $0 < \\theta < \\pi$\n",
    "\n",
    "* $0 < \\phi < 2\\pi$\n",
    "\n",
    "* $r^2 = x^2 + y^2 + z^2$\n",
    "\n",
    "* $x = rsin(\\theta)cos(\\phi)$\n",
    "\n",
    "* $y = rsin(\\theta)sin(\\phi)$\n",
    "\n",
    "* $z = rcos(\\theta)$\n",
    "\n",
    "1) The space group symmety of BaTiO3 follows the progression Pm-3m -> P4mm -> Amm2 -> R3m. Using ISODISTORT, can you identify the order parameter directions of GM4- required to produce these symmetries (relative to the Pm-3m structure)?\n",
    "\n",
    "2) Since the GM4- OPDs correspond directly to directions of displacement (i.e (a,0,0) corresponds to a displacement along x), determine the values of theta and phi where you would expect the fits to be best, noting that OPDs are subject to symmetry (e.g. if (a,0,0) is the OPD, then (-a,0,0) also is).\n",
    "\n",
    "3) The code below will plot the results for the defined temperature. The plots are colour-coded by fit quality with an exponential distribution; the closer the value to 1, the better the fit is. Using this, determine the order parameter direction of GM4- at each temperature. What do the results mean about the type of phase transition in BaTiO3?"
   ]
  },
  {
   "cell_type": "code",
   "execution_count": null,
   "id": "87fbe21d",
   "metadata": {},
   "outputs": [],
   "source": [
    "temp = 15\n",
    "fn = f'GM4-_{temp}_BaTiO3_cubic_spheregrid.txt'\n",
    "df = pd.read_csv(fn, sep='\\s+', names = ['Rwp', 'aa1', 'aa2', 'aa3', 'theta', 'phi'], index_col = None)\n",
    "df = df.sort_values('Rwp')\n",
    "df.index = range(len(df.index))\n",
    "rwmin = df.at[0,'Rwp']\n",
    "colors = []\n",
    "for i in range(df.shape[0]):\n",
    "    rw = df.at[i,'Rwp']\n",
    "    colors.append(np.exp((rwmin-rw)/0.03))\n",
    "fig = plt.figure()\n",
    "plt.scatter(df['phi'], df['theta'], c=colors, cmap = 'viridis')\n",
    "plt.ylabel('Theta (rad)')\n",
    "plt.xlabel('Phi (rad)')\n",
    "plt.colorbar()\n",
    "plt.show()\n"
   ]
  },
  {
   "cell_type": "markdown",
   "id": "d0506106",
   "metadata": {},
   "source": [
    "For those who are interested, the code and input file used to produce this data is included as a separate notebook."
   ]
  },
  {
   "cell_type": "code",
   "execution_count": null,
   "id": "80c12c73",
   "metadata": {},
   "outputs": [],
   "source": []
  }
 ],
 "metadata": {
  "kernelspec": {
   "display_name": "Python 3 (ipykernel)",
   "language": "python",
   "name": "python3"
  },
  "language_info": {
   "codemirror_mode": {
    "name": "ipython",
    "version": 3
   },
   "file_extension": ".py",
   "mimetype": "text/x-python",
   "name": "python",
   "nbconvert_exporter": "python",
   "pygments_lexer": "ipython3",
   "version": "3.9.12"
  }
 },
 "nbformat": 4,
 "nbformat_minor": 5
}
